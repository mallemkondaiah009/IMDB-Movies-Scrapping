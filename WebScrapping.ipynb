{
 "cells": [
  {
   "cell_type": "code",
   "execution_count": 9,
   "metadata": {},
   "outputs": [],
   "source": [
    "from bs4 import BeautifulSoup\n",
    "import requests\n",
    "import pandas as pd"
   ]
  },
  {
   "cell_type": "code",
   "execution_count": 10,
   "metadata": {},
   "outputs": [],
   "source": [
    "url=\"https://m.imdb.com/search/title/?count=250&series=tt0388629&sort=user_rating,desc\""
   ]
  },
  {
   "cell_type": "code",
   "execution_count": 11,
   "metadata": {},
   "outputs": [],
   "source": [
    "HEADERS = {'User-Agent': 'Mozilla/5.0 (X11; Linux x86_64) AppleWebKit/537.36 (KHTML, like Gecko) Chrome/51.0.2704.103 Safari/537.36'}"
   ]
  },
  {
   "cell_type": "code",
   "execution_count": 15,
   "metadata": {},
   "outputs": [
    {
     "data": {
      "text/plain": [
       "<Response [200]>"
      ]
     },
     "execution_count": 15,
     "metadata": {},
     "output_type": "execute_result"
    }
   ],
   "source": [
    "page=requests.get(url,headers=HEADERS)\n",
    "page"
   ]
  },
  {
   "cell_type": "code",
   "execution_count": 28,
   "metadata": {},
   "outputs": [],
   "source": [
    "soup = BeautifulSoup(page.content, \"html.parser\")"
   ]
  },
  {
   "cell_type": "code",
   "execution_count": 37,
   "metadata": {},
   "outputs": [
    {
     "name": "stdout",
     "output_type": "stream",
     "text": [
      "25\n"
     ]
    },
    {
     "data": {
      "text/plain": [
       "['Nakama no Itami wa Waga Itami: Zoro Kesshi no Tatakai',\n",
       " 'Kesareta Nakama-tachi: Mugiwara Ichimi Saigo no Hi',\n",
       " 'Hi o mo Yaki Tsukusu Chikara: Akainu Hijou no Tsuigeki',\n",
       " 'Kotae o Sagashite: Hiken Ace Senjou ni Shisu',\n",
       " 'Kaigun Honbu Houkai! Shirohige Kotobanaki Ikari!',\n",
       " 'Kejime o Tsukeru: Shirohige vs Kurohige Kaizokudan',\n",
       " 'Straw Hat Luffy! The Man Who Will Become the King of the Pirates!',\n",
       " 'The Three-Sword Style of the Supreme King! Zoro vs. King',\n",
       " \"Entering a New Chapter! Luffy and Sabo's Paths!\",\n",
       " 'Powers on a Different Level! Luffy vs. Lucci!',\n",
       " 'Clash! Shanks vs. Eustass Kid',\n",
       " 'For the Beloved Pupil - The Fist of Vice Admiral Garp!',\n",
       " \"The Navy Surprised! The Navy Headquarters' Former Admiral, Kuzan\",\n",
       " 'Kanashiki Kettou: Luffy tai Sanji (Kouhen)',\n",
       " 'Tekken Sakuretsu! Auction o Buttsubuse',\n",
       " 'The Pirate King is Born: Arriving at the Last Island!',\n",
       " 'Surpass the Emperor of the Sea! Luffy Strikes Back with an Iron Fist!',\n",
       " 'The Winner Takes All! Law vs. Blackbeard!',\n",
       " \"The Strongest Form of Humanity! The Seraphim's Powers\",\n",
       " 'Yuke Law: Yasashiki Otoko Saigo no Tatakai!',\n",
       " 'Gear Fourth! Kyoui no Bounce Man!',\n",
       " 'A Fist of Divine Speed! Another Gear Four Application Activated!',\n",
       " 'Luffy VS Usopp! Butsukaru Otoko no Iji',\n",
       " 'Ikitai to Ie! Oretachi wa Nakama Da!!',\n",
       " 'Kobushi ni Kometa Omoi! Luffy Konshin no Gatling']"
      ]
     },
     "execution_count": 37,
     "metadata": {},
     "output_type": "execute_result"
    }
   ],
   "source": [
    "names = soup.find_all('a', class_='ipc-title-link-wrapper')\n",
    "movie_names = []\n",
    "for name in names:\n",
    "    movie_names.append(name.get_text())\n",
    "mn=(movie_names[1::2])\n",
    "print(len(mn))\n",
    "mn"
   ]
  },
  {
   "cell_type": "code",
   "execution_count": 45,
   "metadata": {},
   "outputs": [
    {
     "data": {
      "text/plain": [
       "['2008',\n",
       " '2009',\n",
       " '2011',\n",
       " '2011',\n",
       " '2011',\n",
       " '2011',\n",
       " '2022',\n",
       " '2023',\n",
       " '2024',\n",
       " '2024',\n",
       " '2024',\n",
       " '2024',\n",
       " '2024',\n",
       " '2017',\n",
       " '2009',\n",
       " '2021',\n",
       " '2022',\n",
       " '2024',\n",
       " '2024',\n",
       " '2015',\n",
       " '2016',\n",
       " '2019',\n",
       " '2005',\n",
       " '2006',\n",
       " '2007']"
      ]
     },
     "execution_count": 45,
     "metadata": {},
     "output_type": "execute_result"
    }
   ],
   "source": [
    "years=soup.find_all(\"span\",class_=\"sc-ab348ad5-4 flhbwJ dli-ep-year\")\n",
    "Release_year=[]\n",
    "for year in years:\n",
    "    Release_year.append(year.get_text())\n",
    "RY=[j.strip(\"()\") for j in Release_year]\n",
    "RY"
   ]
  },
  {
   "cell_type": "code",
   "execution_count": 49,
   "metadata": {},
   "outputs": [
    {
     "data": {
      "text/plain": [
       "['9.7',\n",
       " '9.7',\n",
       " '9.7',\n",
       " '9.7',\n",
       " '9.7',\n",
       " '9.7',\n",
       " '9.7',\n",
       " '9.7',\n",
       " '9.7',\n",
       " '9.7',\n",
       " '9.7',\n",
       " '9.7',\n",
       " '9.7',\n",
       " '9.7',\n",
       " '9.6',\n",
       " '9.6',\n",
       " '9.6',\n",
       " '9.6',\n",
       " '9.6',\n",
       " '9.6',\n",
       " '9.6',\n",
       " '9.6',\n",
       " '9.5',\n",
       " '9.5',\n",
       " '9.5']"
      ]
     },
     "execution_count": 49,
     "metadata": {},
     "output_type": "execute_result"
    }
   ],
   "source": [
    "Rating=soup.find_all(\"span\",class_=\"ipc-rating-star ipc-rating-star--base ipc-rating-star--imdb ratingGroup--imdb-rating\")\n",
    "Ep_Ratings=[]\n",
    "for rate in Rating:\n",
    "    Ep_Ratings.append(rate.get_text())\n",
    "ratings=[i.split(\"\\xa0\")[0] for i in Ep_Ratings]\n",
    "ratings"
   ]
  },
  {
   "cell_type": "code",
   "execution_count": 52,
   "metadata": {},
   "outputs": [
    {
     "data": {
      "text/html": [
       "<div>\n",
       "<style scoped>\n",
       "    .dataframe tbody tr th:only-of-type {\n",
       "        vertical-align: middle;\n",
       "    }\n",
       "\n",
       "    .dataframe tbody tr th {\n",
       "        vertical-align: top;\n",
       "    }\n",
       "\n",
       "    .dataframe thead th {\n",
       "        text-align: right;\n",
       "    }\n",
       "</style>\n",
       "<table border=\"1\" class=\"dataframe\">\n",
       "  <thead>\n",
       "    <tr style=\"text-align: right;\">\n",
       "      <th></th>\n",
       "      <th>Movie-Name</th>\n",
       "      <th>Year</th>\n",
       "      <th>Rating</th>\n",
       "    </tr>\n",
       "  </thead>\n",
       "  <tbody>\n",
       "    <tr>\n",
       "      <th>0</th>\n",
       "      <td>Nakama no Itami wa Waga Itami: Zoro Kesshi no ...</td>\n",
       "      <td>2008</td>\n",
       "      <td>9.7</td>\n",
       "    </tr>\n",
       "    <tr>\n",
       "      <th>1</th>\n",
       "      <td>Kesareta Nakama-tachi: Mugiwara Ichimi Saigo n...</td>\n",
       "      <td>2009</td>\n",
       "      <td>9.7</td>\n",
       "    </tr>\n",
       "    <tr>\n",
       "      <th>2</th>\n",
       "      <td>Hi o mo Yaki Tsukusu Chikara: Akainu Hijou no ...</td>\n",
       "      <td>2011</td>\n",
       "      <td>9.7</td>\n",
       "    </tr>\n",
       "    <tr>\n",
       "      <th>3</th>\n",
       "      <td>Kotae o Sagashite: Hiken Ace Senjou ni Shisu</td>\n",
       "      <td>2011</td>\n",
       "      <td>9.7</td>\n",
       "    </tr>\n",
       "    <tr>\n",
       "      <th>4</th>\n",
       "      <td>Kaigun Honbu Houkai! Shirohige Kotobanaki Ikari!</td>\n",
       "      <td>2011</td>\n",
       "      <td>9.7</td>\n",
       "    </tr>\n",
       "    <tr>\n",
       "      <th>5</th>\n",
       "      <td>Kejime o Tsukeru: Shirohige vs Kurohige Kaizok...</td>\n",
       "      <td>2011</td>\n",
       "      <td>9.7</td>\n",
       "    </tr>\n",
       "    <tr>\n",
       "      <th>6</th>\n",
       "      <td>Straw Hat Luffy! The Man Who Will Become the K...</td>\n",
       "      <td>2022</td>\n",
       "      <td>9.7</td>\n",
       "    </tr>\n",
       "    <tr>\n",
       "      <th>7</th>\n",
       "      <td>The Three-Sword Style of the Supreme King! Zor...</td>\n",
       "      <td>2023</td>\n",
       "      <td>9.7</td>\n",
       "    </tr>\n",
       "    <tr>\n",
       "      <th>8</th>\n",
       "      <td>Entering a New Chapter! Luffy and Sabo's Paths!</td>\n",
       "      <td>2024</td>\n",
       "      <td>9.7</td>\n",
       "    </tr>\n",
       "    <tr>\n",
       "      <th>9</th>\n",
       "      <td>Powers on a Different Level! Luffy vs. Lucci!</td>\n",
       "      <td>2024</td>\n",
       "      <td>9.7</td>\n",
       "    </tr>\n",
       "    <tr>\n",
       "      <th>10</th>\n",
       "      <td>Clash! Shanks vs. Eustass Kid</td>\n",
       "      <td>2024</td>\n",
       "      <td>9.7</td>\n",
       "    </tr>\n",
       "    <tr>\n",
       "      <th>11</th>\n",
       "      <td>For the Beloved Pupil - The Fist of Vice Admir...</td>\n",
       "      <td>2024</td>\n",
       "      <td>9.7</td>\n",
       "    </tr>\n",
       "    <tr>\n",
       "      <th>12</th>\n",
       "      <td>The Navy Surprised! The Navy Headquarters' For...</td>\n",
       "      <td>2024</td>\n",
       "      <td>9.7</td>\n",
       "    </tr>\n",
       "    <tr>\n",
       "      <th>13</th>\n",
       "      <td>Kanashiki Kettou: Luffy tai Sanji (Kouhen)</td>\n",
       "      <td>2017</td>\n",
       "      <td>9.7</td>\n",
       "    </tr>\n",
       "    <tr>\n",
       "      <th>14</th>\n",
       "      <td>Tekken Sakuretsu! Auction o Buttsubuse</td>\n",
       "      <td>2009</td>\n",
       "      <td>9.6</td>\n",
       "    </tr>\n",
       "    <tr>\n",
       "      <th>15</th>\n",
       "      <td>The Pirate King is Born: Arriving at the Last ...</td>\n",
       "      <td>2021</td>\n",
       "      <td>9.6</td>\n",
       "    </tr>\n",
       "    <tr>\n",
       "      <th>16</th>\n",
       "      <td>Surpass the Emperor of the Sea! Luffy Strikes ...</td>\n",
       "      <td>2022</td>\n",
       "      <td>9.6</td>\n",
       "    </tr>\n",
       "    <tr>\n",
       "      <th>17</th>\n",
       "      <td>The Winner Takes All! Law vs. Blackbeard!</td>\n",
       "      <td>2024</td>\n",
       "      <td>9.6</td>\n",
       "    </tr>\n",
       "    <tr>\n",
       "      <th>18</th>\n",
       "      <td>The Strongest Form of Humanity! The Seraphim's...</td>\n",
       "      <td>2024</td>\n",
       "      <td>9.6</td>\n",
       "    </tr>\n",
       "    <tr>\n",
       "      <th>19</th>\n",
       "      <td>Yuke Law: Yasashiki Otoko Saigo no Tatakai!</td>\n",
       "      <td>2015</td>\n",
       "      <td>9.6</td>\n",
       "    </tr>\n",
       "    <tr>\n",
       "      <th>20</th>\n",
       "      <td>Gear Fourth! Kyoui no Bounce Man!</td>\n",
       "      <td>2016</td>\n",
       "      <td>9.6</td>\n",
       "    </tr>\n",
       "    <tr>\n",
       "      <th>21</th>\n",
       "      <td>A Fist of Divine Speed! Another Gear Four Appl...</td>\n",
       "      <td>2019</td>\n",
       "      <td>9.6</td>\n",
       "    </tr>\n",
       "    <tr>\n",
       "      <th>22</th>\n",
       "      <td>Luffy VS Usopp! Butsukaru Otoko no Iji</td>\n",
       "      <td>2005</td>\n",
       "      <td>9.5</td>\n",
       "    </tr>\n",
       "    <tr>\n",
       "      <th>23</th>\n",
       "      <td>Ikitai to Ie! Oretachi wa Nakama Da!!</td>\n",
       "      <td>2006</td>\n",
       "      <td>9.5</td>\n",
       "    </tr>\n",
       "    <tr>\n",
       "      <th>24</th>\n",
       "      <td>Kobushi ni Kometa Omoi! Luffy Konshin no Gatling</td>\n",
       "      <td>2007</td>\n",
       "      <td>9.5</td>\n",
       "    </tr>\n",
       "  </tbody>\n",
       "</table>\n",
       "</div>"
      ],
      "text/plain": [
       "                                           Movie-Name  Year Rating\n",
       "0   Nakama no Itami wa Waga Itami: Zoro Kesshi no ...  2008    9.7\n",
       "1   Kesareta Nakama-tachi: Mugiwara Ichimi Saigo n...  2009    9.7\n",
       "2   Hi o mo Yaki Tsukusu Chikara: Akainu Hijou no ...  2011    9.7\n",
       "3        Kotae o Sagashite: Hiken Ace Senjou ni Shisu  2011    9.7\n",
       "4    Kaigun Honbu Houkai! Shirohige Kotobanaki Ikari!  2011    9.7\n",
       "5   Kejime o Tsukeru: Shirohige vs Kurohige Kaizok...  2011    9.7\n",
       "6   Straw Hat Luffy! The Man Who Will Become the K...  2022    9.7\n",
       "7   The Three-Sword Style of the Supreme King! Zor...  2023    9.7\n",
       "8     Entering a New Chapter! Luffy and Sabo's Paths!  2024    9.7\n",
       "9       Powers on a Different Level! Luffy vs. Lucci!  2024    9.7\n",
       "10                      Clash! Shanks vs. Eustass Kid  2024    9.7\n",
       "11  For the Beloved Pupil - The Fist of Vice Admir...  2024    9.7\n",
       "12  The Navy Surprised! The Navy Headquarters' For...  2024    9.7\n",
       "13         Kanashiki Kettou: Luffy tai Sanji (Kouhen)  2017    9.7\n",
       "14             Tekken Sakuretsu! Auction o Buttsubuse  2009    9.6\n",
       "15  The Pirate King is Born: Arriving at the Last ...  2021    9.6\n",
       "16  Surpass the Emperor of the Sea! Luffy Strikes ...  2022    9.6\n",
       "17          The Winner Takes All! Law vs. Blackbeard!  2024    9.6\n",
       "18  The Strongest Form of Humanity! The Seraphim's...  2024    9.6\n",
       "19        Yuke Law: Yasashiki Otoko Saigo no Tatakai!  2015    9.6\n",
       "20                  Gear Fourth! Kyoui no Bounce Man!  2016    9.6\n",
       "21  A Fist of Divine Speed! Another Gear Four Appl...  2019    9.6\n",
       "22             Luffy VS Usopp! Butsukaru Otoko no Iji  2005    9.5\n",
       "23              Ikitai to Ie! Oretachi wa Nakama Da!!  2006    9.5\n",
       "24   Kobushi ni Kometa Omoi! Luffy Konshin no Gatling  2007    9.5"
      ]
     },
     "execution_count": 52,
     "metadata": {},
     "output_type": "execute_result"
    }
   ],
   "source": [
    "data=pd.DataFrame()\n",
    "data[\"Movie-Name\"]=mn\n",
    "data[\"Year\"]=RY\n",
    "data[\"Rating\"]=ratings\n",
    "\n",
    "data"
   ]
  },
  {
   "cell_type": "code",
   "execution_count": 53,
   "metadata": {},
   "outputs": [],
   "source": [
    "data.to_csv(\"IMDB Top 25 ONEPIECE Episodes.csv\",index=False)"
   ]
  }
 ],
 "metadata": {
  "kernelspec": {
   "display_name": "Python 3",
   "language": "python",
   "name": "python3"
  },
  "language_info": {
   "codemirror_mode": {
    "name": "ipython",
    "version": 3
   },
   "file_extension": ".py",
   "mimetype": "text/x-python",
   "name": "python",
   "nbconvert_exporter": "python",
   "pygments_lexer": "ipython3",
   "version": "3.12.4"
  }
 },
 "nbformat": 4,
 "nbformat_minor": 2
}
